{
 "cells": [
  {
   "cell_type": "code",
   "execution_count": 1,
   "metadata": {},
   "outputs": [],
   "source": [
    "import numpy as np\n",
    "import pandas as pd\n",
    "import matplotlib.pylab as plt\n",
    "from sklearn.linear_model import LinearRegression\n",
    "from sklearn.model_selection import TimeSeriesSplit\n",
    "\n",
    "import read_data as rd\n",
    "from metrics import cwcf, picpf, pinewf\n",
    "import time\n",
    "from predict_fx import xxx_cross_validation, xxx_test_validation, predict_diff, predict_sp_diff"
   ]
  },
  {
   "cell_type": "code",
   "execution_count": 2,
   "metadata": {},
   "outputs": [],
   "source": [
    "ts_sm, ts_tr, ts_pe = rd.load_sp()\n"
   ]
  },
  {
   "cell_type": "code",
   "execution_count": 10,
   "metadata": {
    "scrolled": true
   },
   "outputs": [
    {
     "name": "stdout",
     "output_type": "stream",
     "text": [
      "bayesian\n",
      "Result of Cross validation: \n",
      "cwc 3.530757, picp 0.763889, pinew 0.642450\n",
      "Result of Test validation: \n",
      "cwc 1.519851, picp 0.882353, pinew 0.693047\n",
      "bayesian\n",
      "Result of Cross validation: \n",
      "cwc 5.397438, picp 0.708333, pinew 0.372046\n",
      "Result of Test validation: \n",
      "cwc 0.805527, picp 0.882353, pinew 0.367317\n",
      "bayesian\n",
      "Result of Cross validation: \n",
      "cwc -22.893853, picp 0.729167, pinew 0.265668\n",
      "Result of Test validation: \n",
      "cwc 0.582153, picp 0.882353, pinew 0.265460\n",
      "(0.03095531463623047, 0.044841766357421875, 0.18514609336853027)\n",
      "436.9857394695282\n",
      "linear\n",
      "Result of Cross validation: \n",
      "cwc 3.079748, picp 0.770833, pinew 0.620445\n",
      "Result of Test validation: \n",
      "cwc 0.678323, picp 0.917647, pinew 0.678323\n",
      "linear\n",
      "Result of Cross validation: \n",
      "cwc 3.370981, picp 0.736111, pinew 0.373838\n",
      "Result of Test validation: \n",
      "cwc 0.800057, picp 0.882353, pinew 0.364823\n",
      "linear\n",
      "Result of Cross validation: \n",
      "cwc 10.207799, picp 0.708333, pinew 0.321454\n",
      "Result of Test validation: \n",
      "cwc 0.578540, picp 0.882353, pinew 0.263812\n",
      "(0.015575170516967773, 0.055047035217285156, 0.20421695709228516)\n",
      "356.34030961990356\n",
      "svm\n",
      "Result of Cross validation: \n",
      "cwc 3.000581, picp 0.770833, pinew 0.604896\n",
      "Result of Test validation: \n",
      "cwc 1.317648, picp 0.894118, pinew 0.639453\n",
      "svm\n",
      "Result of Cross validation: \n",
      "cwc 11.282261, picp 0.673611, pinew 0.403557\n",
      "Result of Test validation: \n",
      "cwc 0.923000, picp 0.847059, pinew 0.342114\n",
      "svm\n",
      "Result of Cross validation: \n",
      "cwc 2.119213, picp 0.548611, pinew 0.265893\n",
      "Result of Test validation: \n",
      "cwc 1.192491, picp 0.764706, pinew 0.244926\n",
      "(0.03893399238586426, 0.06083416938781738, 0.23194098472595215)\n",
      "565.9794187545776\n",
      "cart\n",
      "Result of Cross validation: \n",
      "cwc 2.375296, picp 0.770833, pinew 0.512044\n",
      "Result of Test validation: \n",
      "cwc 1.147895, picp 0.894118, pinew 0.557071\n",
      "cart\n",
      "Result of Cross validation: \n",
      "cwc 7.110271, picp 0.645833, pinew 0.309880\n",
      "Result of Test validation: \n",
      "cwc 1.069255, picp 0.811765, pinew 0.312961\n",
      "cart\n",
      "Result of Cross validation: \n",
      "cwc 49.041806, picp 0.645833, pinew 0.416924\n",
      "Result of Test validation: \n",
      "cwc 0.512506, picp 0.835294, pinew 0.176124\n",
      "(0.029918432235717773, 0.0439143180847168, 0.22241783142089844)\n",
      "430.6150197982788\n",
      "rfr\n",
      "Result of Cross validation: \n",
      "cwc 3.506602, picp 0.743056, pinew 0.570126\n",
      "Result of Test validation: \n",
      "cwc 1.186013, picp 0.894118, pinew 0.575570\n",
      "rfr\n",
      "Result of Cross validation: \n",
      "cwc 6.172570, picp 0.694444, pinew 0.364413\n",
      "Result of Test validation: \n",
      "cwc 0.755741, picp 0.870588, pinew 0.322698\n",
      "rfr\n",
      "Result of Cross validation: \n",
      "cwc 94.120436, picp 0.701389, pinew 0.480499\n",
      "Result of Test validation: \n",
      "cwc 0.244052, picp 0.917647, pinew 0.244052\n",
      "(0.33809542655944824, 0.36418938636779785, 0.49767255783081055)\n",
      "4090.8126924037933\n",
      "svm\n",
      "Result of Cross validation: \n",
      "cwc 3.000581, picp 0.770833, pinew 0.604896\n",
      "Result of Test validation: \n",
      "cwc 1.317648, picp 0.894118, pinew 0.639453\n",
      "svm\n",
      "Result of Cross validation: \n",
      "cwc 11.282261, picp 0.673611, pinew 0.403557\n",
      "Result of Test validation: \n",
      "cwc 0.923000, picp 0.847059, pinew 0.342114\n",
      "svm\n",
      "Result of Cross validation: \n",
      "cwc 2.119213, picp 0.548611, pinew 0.265893\n",
      "Result of Test validation: \n",
      "cwc 1.192491, picp 0.764706, pinew 0.244926\n",
      "(0.034942626953125, 0.0558466911315918, 0.21540498733520508)\n",
      "513.6235036849976\n"
     ]
    }
   ],
   "source": [
    "res = np.array([])\n",
    "# ===========================================  bayesian ===========================================#\n",
    "# timeuse_arr = np.array([])\n",
    "# for i in range(70):\n",
    "st = time.time()\n",
    "predict_diff(ts_sm, model='bayesian', is_plt=False)\n",
    "ed1 = time.time()\n",
    "predict_diff(ts_tr, model='bayesian', is_plt=False)\n",
    "ed2 = time.time()\n",
    "predict_diff(ts_pe, model='bayesian', is_plt=False)\n",
    "ed3 = time.time()\n",
    "print((ed1 - st, ed2 - ed1, ed3 - ed2))\n",
    "timeuse = (ed1 - st)*7886 + (ed2 - ed1)*3719 + (ed3 - ed2)*141\n",
    "print((timeuse))\n",
    "#     timeuse_arr = np.append(timeuse_arr, timeuse)\n",
    "res = np.append(res, timeuse)\n",
    "# print(timeuse_arr.mean())\n",
    "\n",
    "# ===========================================  linear ===========================================#\n",
    "st = time.time()\n",
    "predict_diff(ts_sm, model='linear', is_plt=False)\n",
    "ed1 = time.time()\n",
    "predict_diff(ts_tr, model='linear', is_plt=False)\n",
    "ed2 = time.time()\n",
    "predict_diff(ts_pe, model='linear', is_plt=False)\n",
    "ed3 = time.time()\n",
    "print((ed1 - st, ed2 - ed1, ed3 - ed2))\n",
    "timeuse = (ed1 - st)*7886 + (ed2 - ed1)*3719 + (ed3 - ed2)*141\n",
    "res = np.append(res, timeuse)\n",
    "print((timeuse))\n",
    "\n",
    "# ===========================================  svm ===========================================#\n",
    "st = time.time()\n",
    "predict_diff(ts_sm, model='svm', is_plt=False)\n",
    "ed1 = time.time()\n",
    "predict_diff(ts_tr, model='svm', is_plt=False)\n",
    "ed2 = time.time()\n",
    "predict_diff(ts_pe, model='svm', is_plt=False)\n",
    "ed3 = time.time()\n",
    "print((ed1 - st, ed2 - ed1, ed3 - ed2))\n",
    "timeuse = (ed1 - st)*7886 + (ed2 - ed1)*3719 + (ed3 - ed2)*141\n",
    "res = np.append(res, timeuse)\n",
    "print((timeuse))\n",
    "\n",
    "\n",
    "# ===========================================  cart ===========================================#\n",
    "st = time.time()\n",
    "predict_diff(ts_sm, model='cart', is_plt=False)\n",
    "ed1 = time.time()\n",
    "predict_diff(ts_tr, model='cart', is_plt=False)\n",
    "ed2 = time.time()\n",
    "predict_diff(ts_pe, model='cart', is_plt=False)\n",
    "ed3 = time.time()\n",
    "print((ed1 - st, ed2 - ed1, ed3 - ed2))\n",
    "timeuse = (ed1 - st)*7886 + (ed2 - ed1)*3719 + (ed3 - ed2)*141\n",
    "res = np.append(res, timeuse)\n",
    "print((timeuse))\n",
    "\n",
    "# ===========================================  rfr ===========================================#\n",
    "st = time.time()\n",
    "predict_diff(ts_sm, model='rfr', is_plt=False)\n",
    "ed1 = time.time()\n",
    "predict_diff(ts_tr, model='rfr', is_plt=False)\n",
    "ed2 = time.time()\n",
    "predict_diff(ts_pe, model='rfr', is_plt=False)\n",
    "ed3 = time.time()\n",
    "print((ed1 - st, ed2 - ed1, ed3 - ed2))\n",
    "timeuse = (ed1 - st)*7886 + (ed2 - ed1)*3719 + (ed3 - ed2)*141\n",
    "res = np.append(res, timeuse)\n",
    "print((timeuse))\n",
    "\n",
    "# ===========================================  pso-svm whih svm parameter is specific ===========================================#\n",
    "st = time.time()\n",
    "predict_diff(ts_sm, model='svm', is_plt=False)\n",
    "ed1 = time.time()\n",
    "predict_diff(ts_tr, model='svm', is_plt=False)\n",
    "ed2 = time.time()\n",
    "predict_diff(ts_pe, model='svm', is_plt=False)\n",
    "ed3 = time.time()\n",
    "print((ed1 - st, ed2 - ed1, ed3 - ed2))\n",
    "timeuse = (ed1 - st)*7886 + (ed2 - ed1)*3719 + (ed3 - ed2)*141\n",
    "res = np.append(res, timeuse)\n",
    "print((timeuse))"
   ]
  },
  {
   "cell_type": "code",
   "execution_count": 4,
   "metadata": {},
   "outputs": [
    {
     "data": {
      "text/plain": [
       "array([ 411.76720047,  390.63455939,  523.77671313,  385.28703022,\n",
       "       3863.33401871,  594.61855602])"
      ]
     },
     "execution_count": 4,
     "metadata": {},
     "output_type": "execute_result"
    }
   ],
   "source": [
    "res\n"
   ]
  },
  {
   "cell_type": "code",
   "execution_count": 12,
   "metadata": {},
   "outputs": [],
   "source": [
    "import matplotlib.pyplot as plt\n",
    "import matplotlib\n",
    "plt.rcParams['font.sans-serif'] = ['SimHei']\n",
    "matplotlib.rcParams['axes.unicode_minus'] = False"
   ]
  },
  {
   "cell_type": "code",
   "execution_count": 15,
   "metadata": {},
   "outputs": [
    {
     "data": {
      "image/png": "[encoded data removed]",
      "text/plain": [
       "<Figure size 576x432 with 1 Axes>"
      ]
     },
     "metadata": {
      "needs_background": "light"
     },
     "output_type": "display_data"
    }
   ],
   "source": [
    "tmp = res / 11746\n",
    "plt.figure(figsize=(8, 6))\n",
    "plt.bar(range(6), tmp)\n",
    "plt.xticks(range(6), ['Bayesian', 'Linear', 'SVM', 'CART', 'RFR', 'SAC-GPSO-SVM'], fontsize=14)\n",
    "plt.ylabel('平均预测时间/s', fontsize=14)\n",
    "for x, y in enumerate(tmp):\n",
    "    plt.text(x - 0.15, y+0.003, '%.3f' % y)\n",
    "# plt.show()\n",
    "plt.savefig(\"fig/3-11.png\", dpi=600)"
   ]
  }
 ],
 "metadata": {
  "kernelspec": {
   "display_name": "Python 3",
   "language": "python",
   "name": "python3"
  },
  "language_info": {
   "codemirror_mode": {
    "name": "ipython",
    "version": 3
   },
   "file_extension": ".py",
   "mimetype": "text/x-python",
   "name": "python",
   "nbconvert_exporter": "python",
   "pygments_lexer": "ipython3",
   "version": "3.6.6"
  }
 },
 "nbformat": 4,
 "nbformat_minor": 2
}
