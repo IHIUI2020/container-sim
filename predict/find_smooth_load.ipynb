{
 "cells": [
  {
   "cell_type": "code",
   "execution_count": 58,
   "metadata": {},
   "outputs": [],
   "source": [
    "import pandas as pd\n",
    "import numpy as np\n",
    "import matplotlib.pyplot as plt\n",
    "import math"
   ]
  },
  {
   "cell_type": "code",
   "execution_count": 3,
   "metadata": {},
   "outputs": [],
   "source": [
    "import os"
   ]
  },
  {
   "cell_type": "code",
   "execution_count": 4,
   "metadata": {},
   "outputs": [],
   "source": [
    "data_dir = '../data/planetlab'\n",
    "def find_smooth_load(root):\n",
    "    res = pd.DataFrame(columns=['filename', 'score'])\n",
    "    \n",
    "    for dir in os.listdir(root):\n",
    "        child = os.path.join(root, dir)\n",
    "        if os.path.isdir(child):\n",
    "            for csv in os.listdir(child):\n",
    "                score = is_smooth(csv)\n",
    "                if score > 0:\n",
    "                    res.loc[res.shape[0]+1] = {'filename': csv, 'score': score}\n",
    "    return res"
   ]
  },
  {
   "cell_type": "code",
   "execution_count": 5,
   "metadata": {},
   "outputs": [],
   "source": [
    "csv = os.path.join(data_dir, '20110303', 'ait05_us_es_root')\n",
    "df = pd.read_csv(csv)"
   ]
  },
  {
   "cell_type": "code",
   "execution_count": 8,
   "metadata": {},
   "outputs": [
    {
     "data": {
      "text/plain": [
       "((287, 1), Index(['2'], dtype='object'))"
      ]
     },
     "execution_count": 8,
     "metadata": {},
     "output_type": "execute_result"
    }
   ],
   "source": [
    "df.shape, df.columns"
   ]
  },
  {
   "cell_type": "code",
   "execution_count": 11,
   "metadata": {},
   "outputs": [
    {
     "data": {
      "text/plain": [
       "((287, 1), Index(['load'], dtype='object'))"
      ]
     },
     "execution_count": 11,
     "metadata": {},
     "output_type": "execute_result"
    }
   ],
   "source": [
    "df = df.rename(columns={'2':'load'})\n",
    "df.shape, df.columns"
   ]
  },
  {
   "cell_type": "code",
   "execution_count": 19,
   "metadata": {},
   "outputs": [
    {
     "data": {
      "image/png": "[encoded data removed]",
      "text/plain": [
       "<Figure size 432x288 with 1 Axes>"
      ]
     },
     "metadata": {
      "needs_background": "light"
     },
     "output_type": "display_data"
    }
   ],
   "source": [
    "df = df.dropna()\n",
    "plt.plot(df, color='gray', linestyle='-', marker='x')\n",
    "plt.grid()\n",
    "plt.show()"
   ]
  },
  {
   "cell_type": "code",
   "execution_count": 23,
   "metadata": {},
   "outputs": [
    {
     "data": {
      "text/plain": [
       "(-13.192640923719955,\n",
       " 1.1358624003544769e-24,\n",
       " 0,\n",
       " 286,\n",
       " {'1%': -3.4534232986669546,\n",
       "  '5%': -2.8716994185534745,\n",
       "  '10%': -2.5721833625116144},\n",
       " 1484.0478483980992)"
      ]
     },
     "execution_count": 23,
     "metadata": {},
     "output_type": "execute_result"
    }
   ],
   "source": [
    "from statsmodels.tsa.stattools import adfuller as ADF\n",
    "dftest = ADF(df['load'])\n",
    "# 结果符合平稳序列\n",
    "print(dftest)"
   ]
  },
  {
   "cell_type": "code",
   "execution_count": 92,
   "metadata": {},
   "outputs": [],
   "source": [
    "def auto_corr(ts, k):\n",
    "    l = len(ts)\n",
    "    ts1 = ts[:l-k]\n",
    "    ts2 = ts[k:]\n",
    "    ts_mean = ts.mean()\n",
    "    ts_var = np.array([i**2 for i in ts - ts_mean]).sum()\n",
    "    auto_corr = 0.0\n",
    "    for i in range(l-k):\n",
    "        auto_corr += (ts1[i] - ts_mean) * (ts2[i+k] - ts_mean) / ts_var\n",
    "    return auto_corr\n",
    "\n",
    "def auto_corr_series(ts):\n",
    "    acs = np.array([])\n",
    "    l = len(ts)\n",
    "    for i in range(math.ceil(l/3)):\n",
    "            acs = np.append(acs, auto_corr(ts, i))\n",
    "    return acs"
   ]
  },
  {
   "cell_type": "code",
   "execution_count": 98,
   "metadata": {},
   "outputs": [
    {
     "name": "stdout",
     "output_type": "stream",
     "text": [
      "0.14285714285714285\n"
     ]
    },
    {
     "data": {
      "text/plain": [
       "array([1.        , 0.14285714])"
      ]
     },
     "execution_count": 98,
     "metadata": {},
     "output_type": "execute_result"
    }
   ],
   "source": [
    "l1, l2 = [1,4,5,6], [3,4,2,8]\n",
    "s1 = pd.Series(l1)\n",
    "s2 = pd.Series(l2)\n",
    "print(auto_corr(s1, 1))\n",
    "auto_corr_series(s1)"
   ]
  },
  {
   "cell_type": "code",
   "execution_count": 36,
   "metadata": {},
   "outputs": [
    {
     "name": "stdout",
     "output_type": "stream",
     "text": [
      "9.0\n"
     ]
    }
   ],
   "source": [
    "a, b = s1.mean(), s2.mean()\n",
    "n = len(l1) if len(l1) == len(l2) else -1\n",
    "sum = 0.0\n",
    "if n != -1:\n",
    "    for i in range(n):\n",
    "        sum += (l1[i] - a)*(l2[i] - b)\n",
    "print(sum)"
   ]
  },
  {
   "cell_type": "code",
   "execution_count": 43,
   "metadata": {},
   "outputs": [
    {
     "data": {
      "text/plain": [
       "(4.666666666666667, 4)"
      ]
     },
     "execution_count": 43,
     "metadata": {},
     "output_type": "execute_result"
    }
   ],
   "source": [
    "s1.var(), s1.size"
   ]
  },
  {
   "cell_type": "code",
   "execution_count": 42,
   "metadata": {},
   "outputs": [
    {
     "name": "stdout",
     "output_type": "stream",
     "text": [
      "4.666666666666667\n"
     ]
    }
   ],
   "source": [
    "std = 0.0\n",
    "for i in range(n):\n",
    "    std += pow(l1[i] - a, 2) / 3\n",
    "print(std)"
   ]
  },
  {
   "cell_type": "code",
   "execution_count": 50,
   "metadata": {},
   "outputs": [],
   "source": [
    "from statsmodels.tsa.stattools import acf"
   ]
  },
  {
   "cell_type": "code",
   "execution_count": 85,
   "metadata": {},
   "outputs": [
    {
     "data": {
      "text/plain": [
       "array([ 1.        ,  0.14285714, -0.21428571, -0.42857143])"
      ]
     },
     "execution_count": 85,
     "metadata": {},
     "output_type": "execute_result"
    }
   ],
   "source": [
    "s3 = pd.Series([1,3,4,5,6,3,4])\n",
    "acf(s1)"
   ]
  },
  {
   "cell_type": "code",
   "execution_count": 55,
   "metadata": {},
   "outputs": [
    {
     "data": {
      "text/plain": [
       "(0    1\n",
       " 1    4\n",
       " 2    5\n",
       " dtype: int64, 1    4\n",
       " 2    5\n",
       " 3    6\n",
       " dtype: int64)"
      ]
     },
     "execution_count": 55,
     "metadata": {},
     "output_type": "execute_result"
    }
   ],
   "source": [
    "l = len(s1)\n",
    "s1[:l-1], s1[1:]"
   ]
  }
 ],
 "metadata": {
  "kernelspec": {
   "display_name": "Python 3",
   "language": "python",
   "name": "python3"
  },
  "language_info": {
   "codemirror_mode": {
    "name": "ipython",
    "version": 3
   },
   "file_extension": ".py",
   "mimetype": "text/x-python",
   "name": "python",
   "nbconvert_exporter": "python",
   "pygments_lexer": "ipython3",
   "version": "3.7.2"
  }
 },
 "nbformat": 4,
 "nbformat_minor": 2
}
