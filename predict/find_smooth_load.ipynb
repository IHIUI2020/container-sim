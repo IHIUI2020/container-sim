{
 "cells": [
  {
   "cell_type": "code",
   "execution_count": 58,
   "metadata": {},
   "outputs": [],
   "source": [
    "import pandas as pd\n",
    "import numpy as np\n",
    "import matplotlib.pyplot as plt\n",
    "import math"
   ]
  },
  {
   "cell_type": "code",
   "execution_count": 3,
   "metadata": {},
   "outputs": [],
   "source": [
    "import os"
   ]
  },
  {
   "cell_type": "code",
   "execution_count": 130,
   "metadata": {},
   "outputs": [
    {
     "data": {
      "text/html": [
       "<div>\n",
       "<style scoped>\n",
       "    .dataframe tbody tr th:only-of-type {\n",
       "        vertical-align: middle;\n",
       "    }\n",
       "\n",
       "    .dataframe tbody tr th {\n",
       "        vertical-align: top;\n",
       "    }\n",
       "\n",
       "    .dataframe thead th {\n",
       "        text-align: right;\n",
       "    }\n",
       "</style>\n",
       "<table border=\"1\" class=\"dataframe\">\n",
       "  <thead>\n",
       "    <tr style=\"text-align: right;\">\n",
       "      <th></th>\n",
       "      <th>filename</th>\n",
       "      <th>score</th>\n",
       "    </tr>\n",
       "  </thead>\n",
       "  <tbody>\n",
       "    <tr>\n",
       "      <th>1</th>\n",
       "      <td>s1</td>\n",
       "      <td>0.12</td>\n",
       "    </tr>\n",
       "    <tr>\n",
       "      <th>2</th>\n",
       "      <td>s2</td>\n",
       "      <td>0.11</td>\n",
       "    </tr>\n",
       "  </tbody>\n",
       "</table>\n",
       "</div>"
      ],
      "text/plain": [
       "  filename  score\n",
       "1       s1   0.12\n",
       "2       s2   0.11"
      ]
     },
     "execution_count": 130,
     "metadata": {},
     "output_type": "execute_result"
    }
   ],
   "source": [
    "temp = pd.DataFrame(columns=['filename', 'score'])\n",
    "temp_csv = 's1'\n",
    "temp_csv2 = 's2'\n",
    "temp_score = 0.12\n",
    "temp_score2 = 0.11\n",
    "temp.loc[temp.shape[0]+1] = {'filename': temp_csv, 'score': temp_score}\n",
    "temp.loc[temp.shape[0]+1] = {'filename': temp_csv2, 'score': temp_score2}\n",
    "temp"
   ]
  },
  {
   "cell_type": "code",
   "execution_count": 189,
   "metadata": {},
   "outputs": [],
   "source": [
    "data_dir = '../data/planetlab'\n",
    "def find_smooth_load(root):\n",
    "    res = pd.DataFrame(columns=['filename', 'score'])\n",
    "    \n",
    "    for d in os.listdir(root):\n",
    "        child = os.path.join(root, d)\n",
    "        print(child)\n",
    "        if os.path.isdir(child):\n",
    "            for csv in os.listdir(child)[:1]:\n",
    "#                 print(csv)\n",
    "                csv = os.path.join(child, csv)\n",
    "                df = pd.read_csv(csv)\n",
    "                df.columns = ['load']\n",
    "                df = df.dropna()\n",
    "                ts = auto_corr_series(df['load'])\n",
    "                flag, score = is_smooth(ts)\n",
    "                print(csv)\n",
    "                if flag:\n",
    "#                     print('find:', csv)\n",
    "                    res.loc[res.shape[0]+1] = {'filename': csv, 'score': score}\n",
    "    return res"
   ]
  },
  {
   "cell_type": "code",
   "execution_count": 190,
   "metadata": {},
   "outputs": [
    {
     "name": "stdout",
     "output_type": "stream",
     "text": [
      "../data/planetlab/20110403\n",
      "../data/planetlab/20110403/planetlab2_uta_edu_uw_oneswarm\n",
      "../data/planetlab/.DS_Store\n",
      "../data/planetlab/20110303\n",
      "../data/planetlab/20110303/146-179_surfsnel_dsl_internl_net_colostate_557\n",
      "../data/planetlab/20110420\n",
      "../data/planetlab/20110420/host2_planetlab_informatik_tu-darmstadt_de_utokyo_sora\n",
      "../data/planetlab/20110411\n",
      "../data/planetlab/20110411/planetlab-node1_it-sudparis_eu_tum_i2p\n",
      "../data/planetlab/20110409\n",
      "../data/planetlab/20110409/147-179_surfsnel_dsl_internl_net_umn_mcla0181\n",
      "../data/planetlab/20110325\n",
      "../data/planetlab/20110325/planetlab2_itwm_fhg_de_nyu_d\n",
      "../data/planetlab/20110322\n",
      "../data/planetlab/20110322/planetlab2_itwm_fhg_de_nyu_d\n",
      "../data/planetlab/20110306\n",
      "../data/planetlab/20110306/146-179_surfsnel_dsl_internl_net_colostate_557\n",
      "../data/planetlab/20110309\n",
      "../data/planetlab/20110309/146-179_surfsnel_dsl_internl_net_colostate_557\n",
      "../data/planetlab/20110412\n",
      "../data/planetlab/20110412/planetlab2_uta_edu_uw_oneswarm\n"
     ]
    },
    {
     "data": {
      "text/html": [
       "<div>\n",
       "<style scoped>\n",
       "    .dataframe tbody tr th:only-of-type {\n",
       "        vertical-align: middle;\n",
       "    }\n",
       "\n",
       "    .dataframe tbody tr th {\n",
       "        vertical-align: top;\n",
       "    }\n",
       "\n",
       "    .dataframe thead th {\n",
       "        text-align: right;\n",
       "    }\n",
       "</style>\n",
       "<table border=\"1\" class=\"dataframe\">\n",
       "  <thead>\n",
       "    <tr style=\"text-align: right;\">\n",
       "      <th></th>\n",
       "      <th>filename</th>\n",
       "      <th>score</th>\n",
       "    </tr>\n",
       "  </thead>\n",
       "  <tbody>\n",
       "    <tr>\n",
       "      <th>1</th>\n",
       "      <td>../data/planetlab/20110303/146-179_surfsnel_ds...</td>\n",
       "      <td>-0.075301</td>\n",
       "    </tr>\n",
       "    <tr>\n",
       "      <th>2</th>\n",
       "      <td>../data/planetlab/20110420/host2_planetlab_inf...</td>\n",
       "      <td>0.004632</td>\n",
       "    </tr>\n",
       "    <tr>\n",
       "      <th>3</th>\n",
       "      <td>../data/planetlab/20110411/planetlab-node1_it-...</td>\n",
       "      <td>-0.017856</td>\n",
       "    </tr>\n",
       "    <tr>\n",
       "      <th>4</th>\n",
       "      <td>../data/planetlab/20110409/147-179_surfsnel_ds...</td>\n",
       "      <td>-0.127406</td>\n",
       "    </tr>\n",
       "    <tr>\n",
       "      <th>5</th>\n",
       "      <td>../data/planetlab/20110325/planetlab2_itwm_fhg...</td>\n",
       "      <td>-0.096337</td>\n",
       "    </tr>\n",
       "    <tr>\n",
       "      <th>6</th>\n",
       "      <td>../data/planetlab/20110322/planetlab2_itwm_fhg...</td>\n",
       "      <td>0.165432</td>\n",
       "    </tr>\n",
       "    <tr>\n",
       "      <th>7</th>\n",
       "      <td>../data/planetlab/20110306/146-179_surfsnel_ds...</td>\n",
       "      <td>-0.103983</td>\n",
       "    </tr>\n",
       "  </tbody>\n",
       "</table>\n",
       "</div>"
      ],
      "text/plain": [
       "                                            filename     score\n",
       "1  ../data/planetlab/20110303/146-179_surfsnel_ds... -0.075301\n",
       "2  ../data/planetlab/20110420/host2_planetlab_inf...  0.004632\n",
       "3  ../data/planetlab/20110411/planetlab-node1_it-... -0.017856\n",
       "4  ../data/planetlab/20110409/147-179_surfsnel_ds... -0.127406\n",
       "5  ../data/planetlab/20110325/planetlab2_itwm_fhg... -0.096337\n",
       "6  ../data/planetlab/20110322/planetlab2_itwm_fhg...  0.165432\n",
       "7  ../data/planetlab/20110306/146-179_surfsnel_ds... -0.103983"
      ]
     },
     "execution_count": 190,
     "metadata": {},
     "output_type": "execute_result"
    }
   ],
   "source": [
    "smooth_res = find_smooth_load(data_dir)\n",
    "smooth_res"
   ]
  },
  {
   "cell_type": "code",
   "execution_count": 178,
   "metadata": {},
   "outputs": [
    {
     "data": {
      "text/html": [
       "<div>\n",
       "<style scoped>\n",
       "    .dataframe tbody tr th:only-of-type {\n",
       "        vertical-align: middle;\n",
       "    }\n",
       "\n",
       "    .dataframe tbody tr th {\n",
       "        vertical-align: top;\n",
       "    }\n",
       "\n",
       "    .dataframe thead th {\n",
       "        text-align: right;\n",
       "    }\n",
       "</style>\n",
       "<table border=\"1\" class=\"dataframe\">\n",
       "  <thead>\n",
       "    <tr style=\"text-align: right;\">\n",
       "      <th></th>\n",
       "      <th>filename</th>\n",
       "      <th>score</th>\n",
       "      <th>abs_score</th>\n",
       "    </tr>\n",
       "  </thead>\n",
       "  <tbody>\n",
       "    <tr>\n",
       "      <th>2</th>\n",
       "      <td>../data/planetlab/20110420/host2_planetlab_inf...</td>\n",
       "      <td>0.004632</td>\n",
       "      <td>0.004632</td>\n",
       "    </tr>\n",
       "    <tr>\n",
       "      <th>3</th>\n",
       "      <td>../data/planetlab/20110411/planetlab-node1_it-...</td>\n",
       "      <td>-0.017856</td>\n",
       "      <td>0.017856</td>\n",
       "    </tr>\n",
       "    <tr>\n",
       "      <th>1</th>\n",
       "      <td>../data/planetlab/20110303/146-179_surfsnel_ds...</td>\n",
       "      <td>-0.075301</td>\n",
       "      <td>0.075301</td>\n",
       "    </tr>\n",
       "    <tr>\n",
       "      <th>5</th>\n",
       "      <td>../data/planetlab/20110325/planetlab2_itwm_fhg...</td>\n",
       "      <td>-0.096337</td>\n",
       "      <td>0.096337</td>\n",
       "    </tr>\n",
       "    <tr>\n",
       "      <th>7</th>\n",
       "      <td>../data/planetlab/20110306/146-179_surfsnel_ds...</td>\n",
       "      <td>-0.103983</td>\n",
       "      <td>0.103983</td>\n",
       "    </tr>\n",
       "  </tbody>\n",
       "</table>\n",
       "</div>"
      ],
      "text/plain": [
       "                                            filename     score  abs_score\n",
       "2  ../data/planetlab/20110420/host2_planetlab_inf...  0.004632   0.004632\n",
       "3  ../data/planetlab/20110411/planetlab-node1_it-... -0.017856   0.017856\n",
       "1  ../data/planetlab/20110303/146-179_surfsnel_ds... -0.075301   0.075301\n",
       "5  ../data/planetlab/20110325/planetlab2_itwm_fhg... -0.096337   0.096337\n",
       "7  ../data/planetlab/20110306/146-179_surfsnel_ds... -0.103983   0.103983"
      ]
     },
     "execution_count": 178,
     "metadata": {},
     "output_type": "execute_result"
    }
   ],
   "source": [
    "smooth_res['abs_score'] = abs(smooth_res['score'])\n",
    "smooth_res.sort_values('abs_score', inplace=True)\n",
    "smooth_res.head()"
   ]
  },
  {
   "cell_type": "code",
   "execution_count": 191,
   "metadata": {},
   "outputs": [
    {
     "data": {
      "text/plain": [
       "'../data/planetlab/20110303/146-179_surfsnel_dsl_internl_net_colostate_557'"
      ]
     },
     "execution_count": 191,
     "metadata": {},
     "output_type": "execute_result"
    }
   ],
   "source": [
    "smooth_res.iloc[0]['filename']"
   ]
  },
  {
   "cell_type": "code",
   "execution_count": 192,
   "metadata": {},
   "outputs": [
    {
     "data": {
      "text/plain": [
       "(True, -0.07530143432671811)"
      ]
     },
     "execution_count": 192,
     "metadata": {},
     "output_type": "execute_result"
    }
   ],
   "source": [
    "first_smooth = smooth_res.iloc[0]['filename']\n",
    "df = pd.read_csv(first_smooth)\n",
    "df.columns = ['load']\n",
    "df = df.dropna()\n",
    "ts = auto_corr_series(df['load'])\n",
    "is_smooth(ts)"
   ]
  },
  {
   "cell_type": "code",
   "execution_count": 193,
   "metadata": {},
   "outputs": [
    {
     "data": {
      "image/png": "[encoded data removed]",
      "text/plain": [
       "<Figure size 432x288 with 1 Axes>"
      ]
     },
     "metadata": {
      "needs_background": "light"
     },
     "output_type": "display_data"
    }
   ],
   "source": [
    "plt.plot(df, color='gray', linestyle='-', marker='x')\n",
    "plt.grid()\n",
    "plt.show()"
   ]
  },
  {
   "cell_type": "code",
   "execution_count": 195,
   "metadata": {},
   "outputs": [],
   "source": [
    "csv = os.path.join(data_dir, '20110303', 'ait05_us_es_root')\n",
    "df = pd.read_csv(csv)"
   ]
  },
  {
   "cell_type": "code",
   "execution_count": 8,
   "metadata": {},
   "outputs": [
    {
     "data": {
      "text/plain": [
       "((287, 1), Index(['2'], dtype='object'))"
      ]
     },
     "execution_count": 8,
     "metadata": {},
     "output_type": "execute_result"
    }
   ],
   "source": [
    "df.shape, df.columns"
   ]
  },
  {
   "cell_type": "code",
   "execution_count": 199,
   "metadata": {},
   "outputs": [
    {
     "data": {
      "text/plain": [
       "((287, 1), Index(['load'], dtype='object'))"
      ]
     },
     "execution_count": 199,
     "metadata": {},
     "output_type": "execute_result"
    }
   ],
   "source": [
    "df = df.rename(columns={'2':'load'})\n",
    "df.shape, df.columns"
   ]
  },
  {
   "cell_type": "code",
   "execution_count": 200,
   "metadata": {},
   "outputs": [
    {
     "data": {
      "image/png": "[encoded data removed]",
      "text/plain": [
       "<Figure size 432x288 with 1 Axes>"
      ]
     },
     "metadata": {
      "needs_background": "light"
     },
     "output_type": "display_data"
    }
   ],
   "source": [
    "df = df.dropna()\n",
    "plt.plot(df, color='gray', linestyle='-', marker='x')\n",
    "plt.grid()\n",
    "plt.show()"
   ]
  },
  {
   "cell_type": "code",
   "execution_count": 201,
   "metadata": {},
   "outputs": [
    {
     "name": "stdout",
     "output_type": "stream",
     "text": [
      "(-13.192640923719955, 1.1358624003544769e-24, 0, 286, {'1%': -3.4534232986669546, '5%': -2.8716994185534745, '10%': -2.5721833625116144}, 1484.0478483980992)\n"
     ]
    }
   ],
   "source": [
    "from statsmodels.tsa.stattools import adfuller as ADF\n",
    "dftest = ADF(df['load'])\n",
    "# 结果符合平稳序列\n",
    "print(dftest)"
   ]
  },
  {
   "cell_type": "code",
   "execution_count": 103,
   "metadata": {},
   "outputs": [],
   "source": [
    "def auto_corr(ts, k):\n",
    "    l = len(ts)\n",
    "    ts1 = ts[:l-k]\n",
    "    ts2 = ts[k:]\n",
    "    ts_mean = ts.mean()\n",
    "    ts_var = np.array([i**2 for i in ts - ts_mean]).sum()\n",
    "    auto_corr = 0.0\n",
    "    for i in range(l-k):\n",
    "        auto_corr += (ts1[i] - ts_mean) * (ts2[i+k] - ts_mean) / ts_var\n",
    "    return auto_corr\n",
    "\n",
    "def auto_corr_series(ts):\n",
    "    acs = np.array([])\n",
    "    l = len(ts)\n",
    "    for i in range(1, math.ceil(l/3)):\n",
    "            acs = np.append(acs, auto_corr(ts, i))\n",
    "    return acs"
   ]
  },
  {
   "cell_type": "code",
   "execution_count": 202,
   "metadata": {},
   "outputs": [
    {
     "data": {
      "text/plain": [
       "[<matplotlib.lines.Line2D at 0x11b88cd68>]"
      ]
     },
     "execution_count": 202,
     "metadata": {},
     "output_type": "execute_result"
    },
    {
     "data": {
      "image/png": "[encoded data removed]",
      "text/plain": [
       "<Figure size 432x288 with 1 Axes>"
      ]
     },
     "metadata": {
      "needs_background": "light"
     },
     "output_type": "display_data"
    }
   ],
   "source": [
    "acs = auto_corr_series(df['load'])\n",
    "plt.plot(acs)"
   ]
  },
  {
   "cell_type": "code",
   "execution_count": 107,
   "metadata": {},
   "outputs": [
    {
     "data": {
      "text/plain": [
       "(True, -0.09252207033997346)"
      ]
     },
     "execution_count": 107,
     "metadata": {},
     "output_type": "execute_result"
    }
   ],
   "source": [
    "is_smooth(acs)"
   ]
  },
  {
   "cell_type": "code",
   "execution_count": 100,
   "metadata": {},
   "outputs": [],
   "source": [
    "from scipy import stats\n",
    "def is_smooth(ts, u=0, alpha=0.05):\n",
    "    t, p = stats.ttest_1samp(ts, u)\n",
    "    is_smooth = (p > 0.05)\n",
    "    score = (ts.mean() - u) / (ts.std())\n",
    "    return is_smooth, score"
   ]
  },
  {
   "cell_type": "code",
   "execution_count": 98,
   "metadata": {},
   "outputs": [
    {
     "name": "stdout",
     "output_type": "stream",
     "text": [
      "0.14285714285714285\n"
     ]
    },
    {
     "data": {
      "text/plain": [
       "array([1.        , 0.14285714])"
      ]
     },
     "execution_count": 98,
     "metadata": {},
     "output_type": "execute_result"
    }
   ],
   "source": [
    "l1, l2 = [1,4,5,6], [3,4,2,8]\n",
    "s1 = pd.Series(l1)\n",
    "s2 = pd.Series(l2)\n",
    "print(auto_corr(s1, 1))\n",
    "auto_corr_series(s1)"
   ]
  },
  {
   "cell_type": "code",
   "execution_count": 36,
   "metadata": {},
   "outputs": [
    {
     "name": "stdout",
     "output_type": "stream",
     "text": [
      "9.0\n"
     ]
    }
   ],
   "source": [
    "a, b = s1.mean(), s2.mean()\n",
    "n = len(l1) if len(l1) == len(l2) else -1\n",
    "sum = 0.0\n",
    "if n != -1:\n",
    "    for i in range(n):\n",
    "        sum += (l1[i] - a)*(l2[i] - b)\n",
    "print(sum)"
   ]
  },
  {
   "cell_type": "code",
   "execution_count": 43,
   "metadata": {},
   "outputs": [
    {
     "data": {
      "text/plain": [
       "(4.666666666666667, 4)"
      ]
     },
     "execution_count": 43,
     "metadata": {},
     "output_type": "execute_result"
    }
   ],
   "source": [
    "s1.var(), s1.size"
   ]
  },
  {
   "cell_type": "code",
   "execution_count": 42,
   "metadata": {},
   "outputs": [
    {
     "name": "stdout",
     "output_type": "stream",
     "text": [
      "4.666666666666667\n"
     ]
    }
   ],
   "source": [
    "std = 0.0\n",
    "for i in range(n):\n",
    "    std += pow(l1[i] - a, 2) / 3\n",
    "print(std)"
   ]
  },
  {
   "cell_type": "code",
   "execution_count": 50,
   "metadata": {},
   "outputs": [],
   "source": [
    "from statsmodels.tsa.stattools import acf"
   ]
  },
  {
   "cell_type": "code",
   "execution_count": 85,
   "metadata": {},
   "outputs": [
    {
     "data": {
      "text/plain": [
       "array([ 1.        ,  0.14285714, -0.21428571, -0.42857143])"
      ]
     },
     "execution_count": 85,
     "metadata": {},
     "output_type": "execute_result"
    }
   ],
   "source": [
    "s3 = pd.Series([1,3,4,5,6,3,4])\n",
    "acf(s1)"
   ]
  },
  {
   "cell_type": "code",
   "execution_count": 55,
   "metadata": {},
   "outputs": [
    {
     "data": {
      "text/plain": [
       "(0    1\n",
       " 1    4\n",
       " 2    5\n",
       " dtype: int64, 1    4\n",
       " 2    5\n",
       " 3    6\n",
       " dtype: int64)"
      ]
     },
     "execution_count": 55,
     "metadata": {},
     "output_type": "execute_result"
    }
   ],
   "source": [
    "l = len(s1)\n",
    "s1[:l-1], s1[1:]"
   ]
  }
 ],
 "metadata": {
  "kernelspec": {
   "display_name": "Python 3",
   "language": "python",
   "name": "python3"
  },
  "language_info": {
   "codemirror_mode": {
    "name": "ipython",
    "version": 3
   },
   "file_extension": ".py",
   "mimetype": "text/x-python",
   "name": "python",
   "nbconvert_exporter": "python",
   "pygments_lexer": "ipython3",
   "version": "3.7.2"
  }
 },
 "nbformat": 4,
 "nbformat_minor": 2
}
