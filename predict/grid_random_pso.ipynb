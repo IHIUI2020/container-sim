{
 "cells": [
  {
   "cell_type": "code",
   "execution_count": 2,
   "metadata": {},
   "outputs": [],
   "source": [
    "import numpy as np\n",
    "import pandas as pd\n",
    "import matplotlib.pylab as plt\n",
    "from sklearn.model_selection import TimeSeriesSplit, GridSearchCV, RandomizedSearchCV\n",
    "\n",
    "import read_data as rd\n",
    "from metrics import cwcf, picpf, pinewf"
   ]
  },
  {
   "cell_type": "code",
   "execution_count": 3,
   "metadata": {},
   "outputs": [],
   "source": [
    "ts_sm, ts_tr, ts_pe = rd.load_sp()"
   ]
  },
  {
   "cell_type": "code",
   "execution_count": 4,
   "metadata": {},
   "outputs": [],
   "source": [
    "ts = ts_sm"
   ]
  },
  {
   "cell_type": "code",
   "execution_count": 5,
   "metadata": {},
   "outputs": [],
   "source": [
    "ts_u_train, ts_u_test, ts_l_train, ts_l_test, ts_train, ts_test = rd.split_train_test(ts)"
   ]
  },
  {
   "cell_type": "markdown",
   "metadata": {},
   "source": [
    "# Train"
   ]
  },
  {
   "cell_type": "markdown",
   "metadata": {},
   "source": [
    "## 重新划分数据"
   ]
  },
  {
   "cell_type": "code",
   "execution_count": 11,
   "metadata": {},
   "outputs": [
    {
     "data": {
      "text/plain": [
       "((198, 2), (198,), (198, 3), (198,), (198,))"
      ]
     },
     "execution_count": 11,
     "metadata": {},
     "output_type": "execute_result"
    }
   ],
   "source": [
    "X1, y1 = rd.split_to_xy(ts_u_train, range(1,3))\n",
    "X2, y2 = rd.split_to_xy(ts_l_train, range(3))\n",
    "y3 = ts_train[2:]\n",
    "X1.shape, y1.shape, X2.shape, y2.shape, y3.shape"
   ]
  },
  {
   "cell_type": "code",
   "execution_count": 12,
   "metadata": {},
   "outputs": [],
   "source": [
    "X = np.column_stack((X1,X2))\n",
    "y = np.column_stack((y1,y2,y3))"
   ]
  },
  {
   "cell_type": "code",
   "execution_count": 13,
   "metadata": {},
   "outputs": [
    {
     "data": {
      "text/plain": [
       "(array([[88.5, 89.5],\n",
       "        [86. , 88.5]]), array([[37.5, 40. , 41. ],\n",
       "        [ 4.5, 37.5, 40. ]]), array([[88.5, 89.5, 37.5, 40. , 41. ],\n",
       "        [86. , 88.5,  4.5, 37.5, 40. ]]))"
      ]
     },
     "execution_count": 13,
     "metadata": {},
     "output_type": "execute_result"
    }
   ],
   "source": [
    "X[:2,:2], X[:2,2:], X[:2]"
   ]
  },
  {
   "cell_type": "code",
   "execution_count": 14,
   "metadata": {},
   "outputs": [
    {
     "data": {
      "text/plain": [
       "(array([86., 53.]), array([[86. , 37.5, 75. ],\n",
       "        [53. ,  4.5,  9. ]]))"
      ]
     },
     "execution_count": 14,
     "metadata": {},
     "output_type": "execute_result"
    }
   ],
   "source": [
    "y[:2,0], y[:2]"
   ]
  },
  {
   "cell_type": "code",
   "execution_count": 21,
   "metadata": {},
   "outputs": [],
   "source": [
    "def split_to_Xy(ts, ts_u, ts_l):\n",
    "    X1, y1 = rd.split_to_xy(ts_u, range(1,3))\n",
    "    X2, y2 = rd.split_to_xy(ts_l, range(3))\n",
    "    y3 = ts[2:]\n",
    "    X = np.column_stack((X1,X2))\n",
    "    y = np.column_stack((y1,y2,y3))\n",
    "    return X, y"
   ]
  },
  {
   "cell_type": "markdown",
   "metadata": {},
   "source": [
    "## 训练模型"
   ]
  },
  {
   "cell_type": "code",
   "execution_count": 29,
   "metadata": {},
   "outputs": [],
   "source": [
    "from sklearn.base import BaseEstimator, RegressorMixin\n",
    "from sklearn.svm import SVR\n",
    "class PISvm(BaseEstimator, RegressorMixin):\n",
    "    def __init__(self, gamma_u=0.001, C_u=20, gamma_l=0.001, C_l=20, mu=0.9, eta=10):\n",
    "        self.gamma_u = gamma_u\n",
    "        self.C_u = C_u\n",
    "        self.gamma_l = gamma_l\n",
    "        self.C_l = C_l\n",
    "        self.mu = mu\n",
    "        self.eta = eta\n",
    "    \n",
    "    def fit(self, X, y=None):\n",
    "        X_u, y_u = X[:,:2], y[:,0]\n",
    "        X_l, y_l = X[:,2:], y[:,1]\n",
    "        self.svm_u = SVR(gamma=self.gamma_u, C=self.C_u)\n",
    "        self.svm_l = SVR(gamma=self.gamma_l, C=self.C_l)\n",
    "        self.svm_u.fit(X_u, y_u)\n",
    "        self.svm_l.fit(X_l, y_l)\n",
    "        return self\n",
    "\n",
    "    def predict(self, X):\n",
    "        X_u, X_l = X[:,:2], X[:,2:]\n",
    "        pu = self.svm_u.predict(X_u)\n",
    "        pl = self.svm_l.predict(X_l)\n",
    "        p = np.column_stack((pu,pl))\n",
    "        return p\n",
    "    \n",
    "    def score(self, X, y):\n",
    "        p = self.predict(X)\n",
    "        t = y[:,2]\n",
    "        pu, pl = p[:,0], p[:,1]\n",
    "        picp = picpf(t, pu, pl)\n",
    "        pinew = pinewf(pu, pl)\n",
    "        cwc = cwcf(picp, pinew, self.mu, self.eta)\n",
    "        self.result = (cwc, picp, pinew)\n",
    "        return cwc\n"
   ]
  },
  {
   "cell_type": "code",
   "execution_count": 30,
   "metadata": {},
   "outputs": [
    {
     "data": {
      "text/plain": [
       "PISvm(C_l=20, C_u=20, eta=10, gamma_l=0.001, gamma_u=0.001, mu=0.9)"
      ]
     },
     "execution_count": 30,
     "metadata": {},
     "output_type": "execute_result"
    }
   ],
   "source": [
    "pisvm = PISvm()\n",
    "pisvm.fit(X, y)"
   ]
  },
  {
   "cell_type": "code",
   "execution_count": 31,
   "metadata": {},
   "outputs": [],
   "source": [
    "X_test, y_test = split_to_Xy(ts_test, ts_u_test, ts_l_test)"
   ]
  },
  {
   "cell_type": "code",
   "execution_count": 32,
   "metadata": {},
   "outputs": [
    {
     "data": {
      "text/plain": [
       "((85, 5), (85, 3))"
      ]
     },
     "execution_count": 32,
     "metadata": {},
     "output_type": "execute_result"
    }
   ],
   "source": [
    "X_test.shape, y_test.shape"
   ]
  },
  {
   "cell_type": "code",
   "execution_count": 33,
   "metadata": {},
   "outputs": [],
   "source": [
    "p = pisvm.predict(X_test)"
   ]
  },
  {
   "cell_type": "code",
   "execution_count": 34,
   "metadata": {},
   "outputs": [],
   "source": [
    "pu, pl = p[:,0], p[:,1]"
   ]
  },
  {
   "cell_type": "code",
   "execution_count": 35,
   "metadata": {},
   "outputs": [
    {
     "data": {
      "text/plain": [
       "(85, 85)"
      ]
     },
     "execution_count": 35,
     "metadata": {},
     "output_type": "execute_result"
    }
   ],
   "source": [
    "len(pu), len(pl)"
   ]
  },
  {
   "cell_type": "code",
   "execution_count": 36,
   "metadata": {},
   "outputs": [
    {
     "data": {
      "text/plain": [
       "[<matplotlib.lines.Line2D at 0x118162b70>]"
      ]
     },
     "execution_count": 36,
     "metadata": {},
     "output_type": "execute_result"
    },
    {
     "data": {
      "image/png": "[encoded data removed]",
      "text/plain": [
       "<Figure size 432x288 with 1 Axes>"
      ]
     },
     "metadata": {
      "needs_background": "light"
     },
     "output_type": "display_data"
    }
   ],
   "source": [
    "plt.plot(pu)\n",
    "plt.plot(pl)\n",
    "plt.plot(y_test[:,2])"
   ]
  },
  {
   "cell_type": "code",
   "execution_count": 37,
   "metadata": {},
   "outputs": [
    {
     "data": {
      "text/plain": [
       "1.31764829018348"
      ]
     },
     "execution_count": 37,
     "metadata": {},
     "output_type": "execute_result"
    }
   ],
   "source": [
    "pisvm.score(X_test, y_test)"
   ]
  },
  {
   "cell_type": "markdown",
   "metadata": {},
   "source": [
    "## 参数优化"
   ]
  },
  {
   "cell_type": "code",
   "execution_count": 38,
   "metadata": {},
   "outputs": [],
   "source": [
    "tscv = TimeSeriesSplit(n_splits=3)"
   ]
  },
  {
   "cell_type": "markdown",
   "metadata": {},
   "source": [
    "### GridSearchCV"
   ]
  },
  {
   "cell_type": "code",
   "execution_count": 47,
   "metadata": {},
   "outputs": [
    {
     "data": {
      "text/plain": [
       "GridSearchCV(cv=TimeSeriesSplit(max_train_size=None, n_splits=3),\n",
       "       error_score='raise-deprecating',\n",
       "       estimator=PISvm(C_l=20, C_u=20, eta=10, gamma_l=0.001, gamma_u=0.001, mu=0.9),\n",
       "       fit_params=None, iid='warn', n_jobs=None,\n",
       "       param_grid={'gamma_u': array([0.001, 0.101, 0.201, 0.301, 0.401, 0.501, 0.601, 0.701, 0.801,\n",
       "       0.901]), 'C_u': array([10, 11, 12, 13, 14, 15, 16, 17, 18, 19, 20, 21, 22, 23, 24, 25, 26,\n",
       "       27, 28, 29]), 'gamma_l': array([0.001, 0.101, 0.201, 0.301, 0.401, 0.501, 0.601, 0.701, 0.801,\n",
       "       0.901]), 'C_l': array([10, 11, 12, 13, 14, 15, 16, 17, 18, 19, 20, 21, 22, 23, 24, 25, 26,\n",
       "       27, 28, 29])},\n",
       "       pre_dispatch='2*n_jobs', refit=True, return_train_score='warn',\n",
       "       scoring=None, verbose=0)"
      ]
     },
     "execution_count": 47,
     "metadata": {},
     "output_type": "execute_result"
    }
   ],
   "source": [
    "pisvm = PISvm()\n",
    "param_grid = {'gamma_u': np.arange(0.001,1.0,0.1), 'C_u': np.arange(10,30,1),\n",
    "             'gamma_l': np.arange(0.001,1.0,0.1), 'C_l': np.arange(10,30,1),}\n",
    "g_search = GridSearchCV(pisvm, param_grid=param_grid, cv=tscv)\n",
    "g_search.fit(X, y)"
   ]
  },
  {
   "cell_type": "code",
   "execution_count": null,
   "metadata": {},
   "outputs": [],
   "source": [
    "best_pisvm = g_search.best_estimator_"
   ]
  },
  {
   "cell_type": "code",
   "execution_count": null,
   "metadata": {},
   "outputs": [],
   "source": [
    "g_search.best_score_"
   ]
  },
  {
   "cell_type": "code",
   "execution_count": null,
   "metadata": {},
   "outputs": [],
   "source": [
    "g_search.best_params_"
   ]
  },
  {
   "cell_type": "code",
   "execution_count": null,
   "metadata": {},
   "outputs": [],
   "source": [
    "best_pisvm.fit(X, y)"
   ]
  },
  {
   "cell_type": "code",
   "execution_count": null,
   "metadata": {},
   "outputs": [],
   "source": [
    "p = best_pisvm.predict(X_test)"
   ]
  },
  {
   "cell_type": "code",
   "execution_count": null,
   "metadata": {},
   "outputs": [],
   "source": [
    "pu, pl = p[:,0], p[:,1]"
   ]
  },
  {
   "cell_type": "code",
   "execution_count": null,
   "metadata": {},
   "outputs": [],
   "source": [
    "plt.plot(pu)\n",
    "plt.plot(pl)\n",
    "plt.plot(y_test[:,2])"
   ]
  },
  {
   "cell_type": "code",
   "execution_count": null,
   "metadata": {},
   "outputs": [],
   "source": [
    "best_pisvm.score(X_test, y_test)"
   ]
  },
  {
   "cell_type": "code",
   "execution_count": 45,
   "metadata": {},
   "outputs": [],
   "source": [
    "def mean_score(best_pisvm):\n",
    "    cwc_l = np.array([get_score(best_pisvm, ts) for ts in rd.load_sp()])\n",
    "    print(cwc_l)\n",
    "    return cwc_l.mean()\n",
    "    \n",
    "def get_score(best_pisvm, ts):\n",
    "    ts_u_train, ts_u_test, ts_l_train, ts_l_test, ts_train, ts_test = rd.split_train_test(ts)\n",
    "    X_train, y_train = split_to_Xy(ts_train, ts_u_train, ts_l_train)\n",
    "    X_test, y_test = split_to_Xy(ts_test, ts_u_test, ts_l_test)\n",
    "    best_pisvm.fit(X_train, y_train)\n",
    "    return best_pisvm.score(X_test, y_test)"
   ]
  },
  {
   "cell_type": "code",
   "execution_count": null,
   "metadata": {},
   "outputs": [],
   "source": [
    "mean_score(best_pisvm)"
   ]
  },
  {
   "cell_type": "markdown",
   "metadata": {},
   "source": [
    "### RandomizedSearchCV"
   ]
  },
  {
   "cell_type": "code",
   "execution_count": 40,
   "metadata": {},
   "outputs": [
    {
     "data": {
      "text/plain": [
       "RandomizedSearchCV(cv=TimeSeriesSplit(max_train_size=None, n_splits=3),\n",
       "          error_score='raise-deprecating',\n",
       "          estimator=PISvm(C_l=20, C_u=20, eta=10, gamma_l=0.001, gamma_u=0.001, mu=0.9),\n",
       "          fit_params=None, iid='warn', n_iter=1000, n_jobs=None,\n",
       "          param_distributions={'gamma_u': array([0.001, 0.011, ..., 0.981, 0.991]), 'C_u': array([10, 11, 12, 13, 14, 15, 16, 17, 18, 19, 20, 21, 22, 23, 24, 25, 26,\n",
       "       27, 28, 29]), 'gamma_l': array([0.001, 0.011, ..., 0.981, 0.991]), 'C_l': array([10, 11, 12, 13, 14, 15, 16, 17, 18, 19, 20, 21, 22, 23, 24, 25, 26,\n",
       "       27, 28, 29])},\n",
       "          pre_dispatch='2*n_jobs', random_state=None, refit=True,\n",
       "          return_train_score='warn', scoring=None, verbose=0)"
      ]
     },
     "execution_count": 40,
     "metadata": {},
     "output_type": "execute_result"
    }
   ],
   "source": [
    "pisvm = PISvm()\n",
    "param_dist = {'gamma_u': np.arange(0.001,1.0,0.01), 'C_u': np.arange(10,30,1),\n",
    "             'gamma_l': np.arange(0.001,1.0,0.01), 'C_l': np.arange(10,30,1),}\n",
    "r_search = RandomizedSearchCV(pisvm, param_dist, cv=tscv, n_iter=1000)\n",
    "r_search.fit(X, y)"
   ]
  },
  {
   "cell_type": "code",
   "execution_count": 41,
   "metadata": {},
   "outputs": [],
   "source": [
    "rbest_pisvm = r_search.best_estimator_"
   ]
  },
  {
   "cell_type": "code",
   "execution_count": 42,
   "metadata": {},
   "outputs": [
    {
     "data": {
      "text/plain": [
       "29.971256174825754"
      ]
     },
     "execution_count": 42,
     "metadata": {},
     "output_type": "execute_result"
    }
   ],
   "source": [
    "r_search.best_score_"
   ]
  },
  {
   "cell_type": "code",
   "execution_count": 43,
   "metadata": {},
   "outputs": [
    {
     "data": {
      "text/plain": [
       "{'gamma_u': 0.7709999999999999,\n",
       " 'gamma_l': 0.9009999999999999,\n",
       " 'C_u': 21,\n",
       " 'C_l': 10}"
      ]
     },
     "execution_count": 43,
     "metadata": {},
     "output_type": "execute_result"
    }
   ],
   "source": [
    "r_search.best_params_"
   ]
  },
  {
   "cell_type": "code",
   "execution_count": 46,
   "metadata": {},
   "outputs": [
    {
     "name": "stdout",
     "output_type": "stream",
     "text": [
      "[11.57209224 19.5405421   1.09936517]\n"
     ]
    },
    {
     "data": {
      "text/plain": [
       "10.737333173890073"
      ]
     },
     "execution_count": 46,
     "metadata": {},
     "output_type": "execute_result"
    }
   ],
   "source": [
    "mean_score(rbest_pisvm)"
   ]
  }
 ],
 "metadata": {
  "kernelspec": {
   "display_name": "Python 3",
   "language": "python",
   "name": "python3"
  },
  "language_info": {
   "codemirror_mode": {
    "name": "ipython",
    "version": 3
   },
   "file_extension": ".py",
   "mimetype": "text/x-python",
   "name": "python",
   "nbconvert_exporter": "python",
   "pygments_lexer": "ipython3",
   "version": "3.7.2"
  }
 },
 "nbformat": 4,
 "nbformat_minor": 2
}
