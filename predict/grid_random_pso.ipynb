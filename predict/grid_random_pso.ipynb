{
 "cells": [
  {
   "cell_type": "code",
   "execution_count": 1,
   "metadata": {},
   "outputs": [],
   "source": [
    "import numpy as np\n",
    "import pandas as pd\n",
    "import matplotlib.pylab as plt\n",
    "from sklearn.model_selection import TimeSeriesSplit, GridSearchCV, RandomizedSearchCV\n",
    "\n",
    "import read_data as rd\n",
    "from metrics import cwcf, picpf, pinewf"
   ]
  },
  {
   "cell_type": "code",
   "execution_count": 2,
   "metadata": {},
   "outputs": [],
   "source": [
    "ts_sm, ts_tr, ts_pe = rd.load_sp()"
   ]
  },
  {
   "cell_type": "code",
   "execution_count": 3,
   "metadata": {},
   "outputs": [],
   "source": [
    "ts = ts_sm"
   ]
  },
  {
   "cell_type": "code",
   "execution_count": 4,
   "metadata": {},
   "outputs": [],
   "source": [
    "ts_u_train, ts_u_test, ts_l_train, ts_l_test, ts_train, ts_test = rd.split_train_test(ts)"
   ]
  },
  {
   "cell_type": "markdown",
   "metadata": {},
   "source": [
    "# Train"
   ]
  },
  {
   "cell_type": "markdown",
   "metadata": {},
   "source": [
    "## 重新划分数据"
   ]
  },
  {
   "cell_type": "code",
   "execution_count": 5,
   "metadata": {},
   "outputs": [
    {
     "data": {
      "text/plain": [
       "((198, 2), (198,), (198, 2), (198,), (198,))"
      ]
     },
     "execution_count": 5,
     "metadata": {},
     "output_type": "execute_result"
    }
   ],
   "source": [
    "d=range(1,3)\n",
    "X1, y1 = rd.split_to_xy(ts_u_train, d)\n",
    "X2, y2 = rd.split_to_xy(ts_l_train, d)\n",
    "y3 = ts_train[len(d):]\n",
    "X1.shape, y1.shape, X2.shape, y2.shape, y3.shape"
   ]
  },
  {
   "cell_type": "code",
   "execution_count": 6,
   "metadata": {},
   "outputs": [],
   "source": [
    "X = np.column_stack((X1,X2))\n",
    "y = np.column_stack((y1,y2,y3))"
   ]
  },
  {
   "cell_type": "code",
   "execution_count": 7,
   "metadata": {},
   "outputs": [
    {
     "data": {
      "text/plain": [
       "(array([[88.5, 89.5],\n",
       "        [86. , 88.5]]), array([[40. , 41. ],\n",
       "        [37.5, 40. ]]), array([[88.5, 89.5, 40. , 41. ],\n",
       "        [86. , 88.5, 37.5, 40. ]]))"
      ]
     },
     "execution_count": 7,
     "metadata": {},
     "output_type": "execute_result"
    }
   ],
   "source": [
    "X[:2,:2], X[:2,2:], X[:2]"
   ]
  },
  {
   "cell_type": "code",
   "execution_count": 8,
   "metadata": {},
   "outputs": [
    {
     "data": {
      "text/plain": [
       "(array([86., 53.]), array([[86. , 37.5, 75. ],\n",
       "        [53. ,  4.5,  9. ]]))"
      ]
     },
     "execution_count": 8,
     "metadata": {},
     "output_type": "execute_result"
    }
   ],
   "source": [
    "y[:2,0], y[:2]"
   ]
  },
  {
   "cell_type": "code",
   "execution_count": 9,
   "metadata": {},
   "outputs": [],
   "source": [
    "def split_to_Xy(ts, ts_u, ts_l, d=range(1,3)):\n",
    "    X1, y1 = rd.split_to_xy(ts_u, d)\n",
    "    X2, y2 = rd.split_to_xy(ts_l, d)\n",
    "    y3 = ts[len(d):]\n",
    "    X = np.column_stack((X1,X2))\n",
    "    y = np.column_stack((y1,y2,y3))\n",
    "    return X, y"
   ]
  },
  {
   "cell_type": "markdown",
   "metadata": {},
   "source": [
    "## 训练模型"
   ]
  },
  {
   "cell_type": "code",
   "execution_count": 10,
   "metadata": {},
   "outputs": [],
   "source": [
    "from sklearn.base import BaseEstimator, RegressorMixin\n",
    "from sklearn.svm import SVR\n",
    "class PISvm(BaseEstimator, RegressorMixin):\n",
    "    def __init__(self, gamma_u=0.001, C_u=10, gamma_l=0.001, C_l=10, mu=0.6, eta=10):\n",
    "        self.gamma_u = gamma_u\n",
    "        self.C_u = C_u\n",
    "        self.gamma_l = gamma_l\n",
    "        self.C_l = C_l\n",
    "        self.mu = mu\n",
    "        self.eta = eta\n",
    "    \n",
    "    def fit(self, X, y=None):\n",
    "        X_u, y_u = X[:,:2], y[:,0]\n",
    "        X_l, y_l = X[:,2:], y[:,1]\n",
    "        self.svm_u = SVR(gamma=self.gamma_u, C=self.C_u)\n",
    "        self.svm_l = SVR(gamma=self.gamma_l, C=self.C_l)\n",
    "        self.svm_u.fit(X_u, y_u)\n",
    "        self.svm_l.fit(X_l, y_l)\n",
    "        return self\n",
    "\n",
    "    def predict(self, X):\n",
    "        X_u, X_l = X[:,:2], X[:,2:]\n",
    "        pu = self.svm_u.predict(X_u)\n",
    "        pl = self.svm_l.predict(X_l)\n",
    "        p = np.column_stack((pu,pl))\n",
    "        return p\n",
    "    \n",
    "    def score(self, X, y):\n",
    "        p = self.predict(X)\n",
    "        t = y[:,2]\n",
    "        pu, pl = p[:,0], p[:,1]\n",
    "        picp = picpf(t, pu, pl)\n",
    "        pinew = pinewf(pu, pl)\n",
    "        cwc = cwcf(picp, pinew, self.mu, self.eta)\n",
    "        self.result = (cwc, picp, pinew)\n",
    "        return cwc\n"
   ]
  },
  {
   "cell_type": "code",
   "execution_count": 11,
   "metadata": {},
   "outputs": [
    {
     "data": {
      "text/plain": [
       "PISvm(C_l=10, C_u=10, eta=10, gamma_l=0.001, gamma_u=0.001, mu=0.6)"
      ]
     },
     "execution_count": 11,
     "metadata": {},
     "output_type": "execute_result"
    }
   ],
   "source": [
    "pisvm = PISvm()\n",
    "pisvm.fit(X, y)"
   ]
  },
  {
   "cell_type": "code",
   "execution_count": 12,
   "metadata": {},
   "outputs": [],
   "source": [
    "X_test, y_test = split_to_Xy(ts_test, ts_u_test, ts_l_test)"
   ]
  },
  {
   "cell_type": "code",
   "execution_count": 13,
   "metadata": {},
   "outputs": [
    {
     "data": {
      "text/plain": [
       "((85, 4), (85, 3))"
      ]
     },
     "execution_count": 13,
     "metadata": {},
     "output_type": "execute_result"
    }
   ],
   "source": [
    "X_test.shape, y_test.shape"
   ]
  },
  {
   "cell_type": "code",
   "execution_count": 14,
   "metadata": {},
   "outputs": [],
   "source": [
    "p = pisvm.predict(X_test)"
   ]
  },
  {
   "cell_type": "code",
   "execution_count": 15,
   "metadata": {},
   "outputs": [],
   "source": [
    "pu, pl = p[:,0], p[:,1]"
   ]
  },
  {
   "cell_type": "code",
   "execution_count": 16,
   "metadata": {},
   "outputs": [
    {
     "data": {
      "text/plain": [
       "(85, 85)"
      ]
     },
     "execution_count": 16,
     "metadata": {},
     "output_type": "execute_result"
    }
   ],
   "source": [
    "len(pu), len(pl)"
   ]
  },
  {
   "cell_type": "code",
   "execution_count": 17,
   "metadata": {},
   "outputs": [
    {
     "data": {
      "text/plain": [
       "[<matplotlib.lines.Line2D at 0x1146b7be0>]"
      ]
     },
     "execution_count": 17,
     "metadata": {},
     "output_type": "execute_result"
    },
    {
     "data": {
      "image/png": "[encoded data removed]",
      "text/plain": [
       "<Figure size 432x288 with 1 Axes>"
      ]
     },
     "metadata": {
      "needs_background": "light"
     },
     "output_type": "display_data"
    }
   ],
   "source": [
    "plt.plot(pu)\n",
    "plt.plot(pl)\n",
    "plt.plot(y_test[:,2])"
   ]
  },
  {
   "cell_type": "code",
   "execution_count": 18,
   "metadata": {},
   "outputs": [
    {
     "data": {
      "text/plain": [
       "0.7141630074498386"
      ]
     },
     "execution_count": 18,
     "metadata": {},
     "output_type": "execute_result"
    }
   ],
   "source": [
    "pisvm.score(X_test, y_test)"
   ]
  },
  {
   "cell_type": "markdown",
   "metadata": {},
   "source": [
    "## 参数优化"
   ]
  },
  {
   "cell_type": "code",
   "execution_count": 23,
   "metadata": {},
   "outputs": [],
   "source": [
    "tscv = TimeSeriesSplit(n_splits=3)"
   ]
  },
  {
   "cell_type": "markdown",
   "metadata": {},
   "source": [
    "### GridSearchCV"
   ]
  },
  {
   "cell_type": "code",
   "execution_count": 77,
   "metadata": {},
   "outputs": [
    {
     "data": {
      "text/plain": [
       "GridSearchCV(cv=TimeSeriesSplit(max_train_size=None, n_splits=3),\n",
       "       error_score='raise-deprecating',\n",
       "       estimator=PISvm(C_l=10, C_u=10, eta=10, gamma_l=0.001, gamma_u=0.001, mu=0.6),\n",
       "       fit_params=None, iid='warn', n_jobs=None,\n",
       "       param_grid={'gamma_u': array([0.001, 0.101, 0.201, 0.301, 0.401, 0.501, 0.601, 0.701, 0.801,\n",
       "       0.901]), 'C_u': array([10, 11, 12, 13, 14, 15, 16, 17, 18, 19, 20, 21, 22, 23, 24, 25, 26,\n",
       "       27, 28, 29]), 'gamma_l': array([0.001, 0.101, 0.201, 0.301, 0.401, 0.501, 0.601, 0.701, 0.801,\n",
       "       0.901]), 'C_l': array([10, 11, 12, 13, 14, 15, 16, 17, 18, 19, 20, 21, 22, 23, 24, 25, 26,\n",
       "       27, 28, 29])},\n",
       "       pre_dispatch='2*n_jobs', refit=True, return_train_score='warn',\n",
       "       scoring=None, verbose=0)"
      ]
     },
     "execution_count": 77,
     "metadata": {},
     "output_type": "execute_result"
    }
   ],
   "source": [
    "pisvm = PISvm()\n",
    "param_grid = {'gamma_u': np.arange(0.001,1.0,0.1), 'C_u': np.arange(10,30,1),\n",
    "             'gamma_l': np.arange(0.001,1.0,0.1), 'C_l': np.arange(10,30,1),}\n",
    "g_search = GridSearchCV(pisvm, param_grid=param_grid, cv=tscv)\n",
    "g_search.fit(X, y)"
   ]
  },
  {
   "cell_type": "code",
   "execution_count": 66,
   "metadata": {},
   "outputs": [],
   "source": [
    "best_pisvm = g_search.best_estimator_"
   ]
  },
  {
   "cell_type": "code",
   "execution_count": 67,
   "metadata": {},
   "outputs": [
    {
     "data": {
      "text/plain": [
       "2.2199381410211263"
      ]
     },
     "execution_count": 67,
     "metadata": {},
     "output_type": "execute_result"
    }
   ],
   "source": [
    "g_search.best_score_"
   ]
  },
  {
   "cell_type": "code",
   "execution_count": 68,
   "metadata": {},
   "outputs": [
    {
     "data": {
      "text/plain": [
       "{'C_l': 1.0, 'C_u': 100.0, 'gamma_l': 0.1, 'gamma_u': 100.0}"
      ]
     },
     "execution_count": 68,
     "metadata": {},
     "output_type": "execute_result"
    }
   ],
   "source": [
    "g_search.best_params_"
   ]
  },
  {
   "cell_type": "code",
   "execution_count": 69,
   "metadata": {},
   "outputs": [
    {
     "data": {
      "text/plain": [
       "PISvm(C_l=1.0, C_u=100.0, eta=10, gamma_l=0.1, gamma_u=100.0, mu=0.6)"
      ]
     },
     "execution_count": 69,
     "metadata": {},
     "output_type": "execute_result"
    }
   ],
   "source": [
    "best_pisvm.fit(X, y)"
   ]
  },
  {
   "cell_type": "code",
   "execution_count": 71,
   "metadata": {},
   "outputs": [],
   "source": [
    "p = best_pisvm.predict(X_test)"
   ]
  },
  {
   "cell_type": "code",
   "execution_count": 72,
   "metadata": {},
   "outputs": [],
   "source": [
    "pu, pl = p[:,0], p[:,1]"
   ]
  },
  {
   "cell_type": "code",
   "execution_count": 73,
   "metadata": {},
   "outputs": [
    {
     "data": {
      "text/plain": [
       "[<matplotlib.lines.Line2D at 0x117d5d240>]"
      ]
     },
     "execution_count": 73,
     "metadata": {},
     "output_type": "execute_result"
    },
    {
     "data": {
      "image/png": "[encoded data removed]",
      "text/plain": [
       "<Figure size 432x288 with 1 Axes>"
      ]
     },
     "metadata": {
      "needs_background": "light"
     },
     "output_type": "display_data"
    }
   ],
   "source": [
    "plt.plot(pu)\n",
    "plt.plot(pl)\n",
    "plt.plot(y_test[:,2])"
   ]
  },
  {
   "cell_type": "code",
   "execution_count": 75,
   "metadata": {},
   "outputs": [
    {
     "data": {
      "text/plain": [
       "0.7484336708298558"
      ]
     },
     "execution_count": 75,
     "metadata": {},
     "output_type": "execute_result"
    }
   ],
   "source": [
    "best_pisvm.score(X_test, y_test)"
   ]
  },
  {
   "cell_type": "code",
   "execution_count": 40,
   "metadata": {},
   "outputs": [],
   "source": [
    "def mean_score(best_pisvm):\n",
    "    cwc_l = np.array([get_score(best_pisvm, ts) for ts in rd.load_sp()])\n",
    "    print(cwc_l)\n",
    "    return cwc_l.mean()\n",
    "    \n",
    "def get_score(best_pisvm, ts):\n",
    "    ts_u_train, ts_u_test, ts_l_train, ts_l_test, ts_train, ts_test = rd.split_train_test(ts)\n",
    "    X_train, y_train = split_to_Xy(ts_train, ts_u_train, ts_l_train)\n",
    "    X_test, y_test = split_to_Xy(ts_test, ts_u_test, ts_l_test)\n",
    "    best_pisvm.fit(X_train, y_train)\n",
    "    return best_pisvm.score(X_test, y_test)"
   ]
  },
  {
   "cell_type": "code",
   "execution_count": 76,
   "metadata": {},
   "outputs": [
    {
     "data": {
      "text/plain": [
       "1.1474590893433405"
      ]
     },
     "execution_count": 76,
     "metadata": {},
     "output_type": "execute_result"
    }
   ],
   "source": [
    "mean_score(best_pisvm)"
   ]
  },
  {
   "cell_type": "markdown",
   "metadata": {},
   "source": [
    "### RandomizedSearchCV"
   ]
  },
  {
   "cell_type": "code",
   "execution_count": 58,
   "metadata": {},
   "outputs": [
    {
     "data": {
      "text/plain": [
       "RandomizedSearchCV(cv=TimeSeriesSplit(max_train_size=None, n_splits=3),\n",
       "          error_score='raise-deprecating',\n",
       "          estimator=PISvm(C_l=10, C_u=10, eta=10, gamma_l=0.001, gamma_u=0.001, mu=0.6),\n",
       "          fit_params=None, iid='warn', n_iter=1000, n_jobs=None,\n",
       "          param_distributions={'gamma_u': array([0.001, 0.011, ..., 0.981, 0.991]), 'C_u': array([10, 11, 12, 13, 14, 15, 16, 17, 18, 19, 20, 21, 22, 23, 24, 25, 26,\n",
       "       27, 28, 29]), 'gamma_l': array([0.001, 0.011, ..., 0.981, 0.991]), 'C_l': array([10, 11, 12, 13, 14, 15, 16, 17, 18, 19, 20, 21, 22, 23, 24, 25, 26,\n",
       "       27, 28, 29])},\n",
       "          pre_dispatch='2*n_jobs', random_state=None, refit=True,\n",
       "          return_train_score='warn', scoring=None, verbose=0)"
      ]
     },
     "execution_count": 58,
     "metadata": {},
     "output_type": "execute_result"
    }
   ],
   "source": [
    "pisvm = PISvm()\n",
    "param_dist = {'gamma_u': np.arange(0.001,1.0,0.01), 'C_u': np.arange(10,30,1),\n",
    "             'gamma_l': np.arange(0.001,1.0,0.01), 'C_l': np.arange(10,30,1),}\n",
    "r_search = RandomizedSearchCV(pisvm, param_dist, cv=tscv, n_iter=1000)\n",
    "r_search.fit(X, y)"
   ]
  },
  {
   "cell_type": "code",
   "execution_count": null,
   "metadata": {},
   "outputs": [],
   "source": [
    "rbest_pisvm = r_search.best_estimator_"
   ]
  },
  {
   "cell_type": "code",
   "execution_count": 60,
   "metadata": {},
   "outputs": [
    {
     "data": {
      "text/plain": [
       "2.295155652227096"
      ]
     },
     "execution_count": 60,
     "metadata": {},
     "output_type": "execute_result"
    }
   ],
   "source": [
    "r_search.best_score_"
   ]
  },
  {
   "cell_type": "code",
   "execution_count": 61,
   "metadata": {},
   "outputs": [
    {
     "data": {
      "text/plain": [
       "{'gamma_u': 0.9209999999999998,\n",
       " 'gamma_l': 0.030999999999999996,\n",
       " 'C_u': 22,\n",
       " 'C_l': 10}"
      ]
     },
     "execution_count": 61,
     "metadata": {},
     "output_type": "execute_result"
    }
   ],
   "source": [
    "r_search.best_params_"
   ]
  },
  {
   "cell_type": "code",
   "execution_count": null,
   "metadata": {},
   "outputs": [],
   "source": [
    "mean_score(rbest_pisvm)"
   ]
  }
 ],
 "metadata": {
  "kernelspec": {
   "display_name": "Python 3",
   "language": "python",
   "name": "python3"
  },
  "language_info": {
   "codemirror_mode": {
    "name": "ipython",
    "version": 3
   },
   "file_extension": ".py",
   "mimetype": "text/x-python",
   "name": "python",
   "nbconvert_exporter": "python",
   "pygments_lexer": "ipython3",
   "version": "3.7.2"
  }
 },
 "nbformat": 4,
 "nbformat_minor": 2
}
